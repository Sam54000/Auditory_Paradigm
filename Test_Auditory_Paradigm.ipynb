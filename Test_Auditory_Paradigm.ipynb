{
 "cells": [
  {
   "cell_type": "code",
   "execution_count": 1,
   "id": "d00f1283-694e-4244-a51b-e36b1dadc357",
   "metadata": {},
   "outputs": [],
   "source": [
    "import audiomath as am\n",
    "import numpy as np"
   ]
  },
  {
   "cell_type": "code",
   "execution_count": 2,
   "id": "2a31094b-bfc9-44d0-9ed0-c2d476690f6b",
   "metadata": {},
   "outputs": [],
   "source": [
    "s = am.TestSound()      # returns an 8-channel Sound\n",
    "s = am.TestSound('12')  # returns just the first two channels"
   ]
  },
  {
   "cell_type": "code",
   "execution_count": 4,
   "id": "6408d956-f6a4-4fa1-a38a-94b3cacd505c",
   "metadata": {},
   "outputs": [
    {
     "name": "stdout",
     "output_type": "stream",
     "text": [
      "<Player 0x00007FA21A0F6E80> is being initialized\n",
      "<Stream 0x00007FA21956E4C0> is being initialized\n",
      "<Stream 0x00007FA21956E4C0> will request output device 1: Core Audio -> PXC 550\n",
      "<Player 0x00007FA21A0F6E80> is using device 1: Core Audio -> PXC 550\n",
      "<Player 0x00007FA21A0F6E80> will play at 0.91875 * nominal speed to match stream rate of 48000 Hz\n",
      "\n",
      "For better performance, use Player() instances, not the Sound.Play() method.\n",
      "\n",
      "<Player 0x00007FA21A0F6E80> is being deleted\n",
      "<Stream 0x00007FA21956E4C0> is being deleted\n"
     ]
    }
   ],
   "source": [
    "s.Play()"
   ]
  },
  {
   "cell_type": "code",
   "execution_count": 28,
   "id": "c2c8869b-337c-4f8d-9bc7-d4ce6d8427d1",
   "metadata": {},
   "outputs": [],
   "source": []
  },
  {
   "cell_type": "code",
   "execution_count": 20,
   "id": "d1c003c1-7788-4262-b393-79a5bba9289e",
   "metadata": {},
   "outputs": [],
   "source": [
    "\n",
    "y = np.random.rand(3*44100)\n",
    "s = am.Sound(y,fs=44100,nChannels=2)\n",
    "s1 = s*am.Sound().GenerateWaveform(freq_hz=16, duration_msec=3000)\n",
    "p1=am.Player(s1, device=None,\n",
    "                 stream=None,\n",
    "                 bufferLengthMsec=None,\n",
    "                 minLatencyMsec=None, fs=None, resample=False,\n",
    "                 verbose=None,\n",
    "                 norm=2,\n",
    "                 pan=-1)\n",
    "s2=s*am.Sound().GenerateWaveform(freq_hz=25, duration_msec=3000)\n",
    "p2=am.Player(s2, device=None,\n",
    "                 stream=None,\n",
    "                 bufferLengthMsec=None,\n",
    "                 minLatencyMsec=None, fs=None, resample=False,\n",
    "                 verbose=None,\n",
    "                 norm=2,\n",
    "                 pan=1)\n",
    "\n",
    "p1.Play()"
   ]
  },
  {
   "cell_type": "code",
   "execution_count": 22,
   "id": "151cd093-6982-475a-9abf-57a9e3963432",
   "metadata": {},
   "outputs": [
    {
     "data": {
      "image/png": "[encoded data removed]",
      "text/plain": [
       "<Figure size 432x288 with 1 Axes>"
      ]
     },
     "metadata": {
      "needs_background": "light"
     },
     "output_type": "display_data"
    }
   ],
   "source": [
    "s1.Plot()"
   ]
  },
  {
   "cell_type": "code",
   "execution_count": 9,
   "id": "5ca0a945-1881-4c2c-a350-998d093dfd81",
   "metadata": {},
   "outputs": [],
   "source": [
    "s = am.Sound(5, fs=44100, nChannels=2)"
   ]
  },
  {
   "cell_type": "code",
   "execution_count": null,
   "id": "8745b4ac-a86e-4f55-ab31-7cef94bd1781",
   "metadata": {},
   "outputs": [],
   "source": [
    "\n"
   ]
  },
  {
   "cell_type": "code",
   "execution_count": 3,
   "id": "9d7ff865-48c3-455c-9561-89410f2f699e",
   "metadata": {},
   "outputs": [
    {
     "data": {
      "text/plain": [
       "{\n",
       "    'index'                    : 0,\n",
       "    'name'                     : 'Built-in Microphone',\n",
       "    'defaultSampleRate'        : 44100.0,\n",
       "\n",
       "    'maxInputChannels'         : 2,\n",
       "    'defaultLowInputLatency'   : 0.0029478458049886623,\n",
       "    'defaultHighInputLatency'  : 0.01310657596371882,\n",
       "    'isDefaultInput'           : True,\n",
       "\n",
       "    'maxOutputChannels'        : 0,\n",
       "    'defaultLowOutputLatency'  : 0.01,\n",
       "    'defaultHighOutputLatency' : 0.1,\n",
       "    'isDefaultOutput'          : False,\n",
       "\n",
       "    'structVersion'            : 2,\n",
       "    'hostApi'                  : \n",
       "    {\n",
       "        'index'                : 0,\n",
       "        'name'                 : 'Core Audio',\n",
       "        'isDefault'            : True,\n",
       "        'type'                 : 5,\n",
       "        'deviceCount'          : 3,\n",
       "        'defaultInputDevice'   : 0,\n",
       "        'defaultOutputDevice'  : 1,\n",
       "        'structVersion'        : 1,\n",
       "    },\n",
       "}"
      ]
     },
     "execution_count": 3,
     "metadata": {},
     "output_type": "execute_result"
    }
   ],
   "source": [
    "am.FindDevice()"
   ]
  },
  {
   "cell_type": "code",
   "execution_count": null,
   "id": "f52fc8bb-8241-4518-8127-10dc7ea21321",
   "metadata": {},
   "outputs": [],
   "source": []
  }
 ],
 "metadata": {
  "kernelspec": {
   "display_name": "Python 3 (ipykernel)",
   "language": "python",
   "name": "python3"
  },
  "language_info": {
   "codemirror_mode": {
    "name": "ipython",
    "version": 3
   },
   "file_extension": ".py",
   "mimetype": "text/x-python",
   "name": "python",
   "nbconvert_exporter": "python",
   "pygments_lexer": "ipython3",
   "version": "3.9.7"
  }
 },
 "nbformat": 4,
 "nbformat_minor": 5
}
